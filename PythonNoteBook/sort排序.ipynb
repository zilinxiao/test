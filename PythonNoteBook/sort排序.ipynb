{
 "cells": [
  {
   "cell_type": "code",
   "execution_count": 2,
   "metadata": {},
   "outputs": [
    {
     "name": "stdout",
     "output_type": "stream",
     "text": [
      "[(1, 2), (-1, 2), (1, 3), (2, 3), (-1, 3)]\n"
     ]
    }
   ],
   "source": [
    "a = [(-1,3),(2,3),(-1,2),(1,2),(1,3)]\n",
    "a.sort(key=lambda x:(max(x), min(x) < 0,min(x)))#第一顺序max,max大的在后，第二顺序min小于0的在后，第三顺序min大的在后\n",
    "print(a)"
   ]
  },
  {
   "cell_type": "code",
   "execution_count": null,
   "metadata": {
    "collapsed": true
   },
   "outputs": [],
   "source": []
  }
 ],
 "metadata": {
  "kernelspec": {
   "display_name": "Python 3",
   "language": "python",
   "name": "python3"
  },
  "language_info": {
   "codemirror_mode": {
    "name": "ipython",
    "version": 3
   },
   "file_extension": ".py",
   "mimetype": "text/x-python",
   "name": "python",
   "nbconvert_exporter": "python",
   "pygments_lexer": "ipython3",
   "version": "3.6.1"
  }
 },
 "nbformat": 4,
 "nbformat_minor": 2
}
