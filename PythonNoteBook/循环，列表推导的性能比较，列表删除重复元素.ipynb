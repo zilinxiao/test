{
 "cells": [
  {
   "cell_type": "code",
   "execution_count": 60,
   "metadata": {},
   "outputs": [
    {
     "name": "stdout",
     "output_type": "stream",
     "text": [
      "100 loops, best of 3: 3.66 ms per loop\n"
     ]
    }
   ],
   "source": [
    "%%timeit\n",
    "'''双列表推导效率最高'''\n",
    "import numpy as np \n",
    "a = [{\"ids\":(0,i)}for i in range(10000) ]\n",
    "b = [v for i in a for v in i['ids']]\n",
    "c = list(set(b))\n",
    "#print(c)"
   ]
  },
  {
   "cell_type": "code",
   "execution_count": 57,
   "metadata": {},
   "outputs": [
    {
     "name": "stdout",
     "output_type": "stream",
     "text": [
      "1000 loops, best of 3: 810 µs per loop\n"
     ]
    }
   ],
   "source": [
    "%%timeit\n",
    "'''列表推导次之,但是经过多次转换效率降低'''\n",
    "import numpy as np \n",
    "a = [{\"ids\":(0,i)}for i in range(1000) ]\n",
    "b = np.array([list(v['ids']) for v in a]).flatten()\n",
    "c = list(set(b))\n",
    "#print(c)"
   ]
  },
  {
   "cell_type": "code",
   "execution_count": 59,
   "metadata": {
    "scrolled": true
   },
   "outputs": [
    {
     "name": "stdout",
     "output_type": "stream",
     "text": [
      "100 loops, best of 3: 4.89 ms per loop\n"
     ]
    }
   ],
   "source": [
    "%%timeit\n",
    "'''循环速度最慢，尽量用单循环，并且循环计算尽量少'''\n",
    "import numpy as np \n",
    "a = [{\"ids\":(0,i)}for i in range(10000) ]\n",
    "b = []\n",
    "for d in a:\n",
    "    t =d['ids']\n",
    "    b.append(t[0])\n",
    "    b.append(t[1])\n",
    "c=list(set(b))\n",
    "#print(c)"
   ]
  },
  {
   "cell_type": "code",
   "execution_count": 53,
   "metadata": {},
   "outputs": [
    {
     "name": "stdout",
     "output_type": "stream",
     "text": [
      "10000 loops, best of 3: 45.4 µs per loop\n"
     ]
    }
   ],
   "source": [
    "%%timeit\n",
    "'''循环速度最慢，尽量用单循环，并且循环计算尽量少'''\n",
    "import numpy as np \n",
    "a = [{\"ids\":(0,i)}for i in range(100) ]\n",
    "b = []\n",
    "for i in range(len(a)):\n",
    "    t =a[i]['ids']\n",
    "    b.append(t[0])\n",
    "    b.append(t[1])\n",
    "c=list(set(b))\n",
    "#print(c)"
   ]
  },
  {
   "cell_type": "code",
   "execution_count": 47,
   "metadata": {},
   "outputs": [
    {
     "name": "stdout",
     "output_type": "stream",
     "text": [
      "10000 loops, best of 3: 58.6 µs per loop\n"
     ]
    }
   ],
   "source": [
    "%%timeit\n",
    "'''列表推导+fun'''\n",
    "import numpy as np \n",
    "a = [{\"ids\":(0,i)}for i in range(100) ]\n",
    "b =[]\n",
    "def f(b,dt):b+=list(dt['ids'])\n",
    "e = [f(b,d) for d in a]\n",
    "c = list(set(b))\n",
    "#print(c)"
   ]
  },
  {
   "cell_type": "code",
   "execution_count": 2,
   "metadata": {},
   "outputs": [
    {
     "name": "stdout",
     "output_type": "stream",
     "text": [
      "10000 loops, best of 3: 59.4 µs per loop\n"
     ]
    }
   ],
   "source": [
    "%%timeit\n",
    "'''列表推导+fun'''\n",
    "import numpy as np \n",
    "a = [{\"ids\":(0,i)}for i in range(100) ]\n",
    "b =[]\n",
    "def f(b,dt):\n",
    "    t = dt['ids']\n",
    "    b.append(t[0])\n",
    "    b.append(t[1])\n",
    "e = [f(b,d) for d in a]\n",
    "c = list(set(b))\n",
    "#print(c)"
   ]
  },
  {
   "cell_type": "code",
   "execution_count": 1,
   "metadata": {},
   "outputs": [
    {
     "name": "stdout",
     "output_type": "stream",
     "text": [
      "The slowest run took 15792.67 times longer than the fastest. This could mean that an intermediate result is being cached.\n",
      "1 loop, best of 3: 50.5 µs per loop\n"
     ]
    }
   ],
   "source": [
    "%%timeit\n",
    "'''列表推导+fun'''\n",
    "import numpy as np \n",
    "a = [{\"ids\":(0,i)}for i in range(100) ]\n",
    "b =[]\n",
    "d = (i for v in a for i in v['ids'])\n",
    "for i in d:b.append(i)\n",
    "c = list(set(b))\n",
    "#print(c)"
   ]
  },
  {
   "cell_type": "code",
   "execution_count": 14,
   "metadata": {
    "scrolled": true
   },
   "outputs": [
    {
     "name": "stdout",
     "output_type": "stream",
     "text": [
      "10 loops, best of 3: 170 ms per loop\n"
     ]
    }
   ],
   "source": [
    "%%timeit\n",
    "import math as m\n",
    "N = 1000\n",
    "for i in range(N):\n",
    "    for j in range(N):\n",
    "       a = 1+1\n",
    "       b = m.sin(a)"
   ]
  },
  {
   "cell_type": "code",
   "execution_count": 22,
   "metadata": {},
   "outputs": [
    {
     "name": "stdout",
     "output_type": "stream",
     "text": [
      "100 loops, best of 3: 17 ms per loop\n"
     ]
    }
   ],
   "source": [
    "%%timeit\n",
    "import numpy as np\n",
    "N = 1000\n",
    "for i in range(N):\n",
    "    for j in range(N):\n",
    "       pass"
   ]
  },
  {
   "cell_type": "code",
   "execution_count": 19,
   "metadata": {},
   "outputs": [
    {
     "name": "stdout",
     "output_type": "stream",
     "text": [
      "10 loops, best of 3: 42 ms per loop\n"
     ]
    }
   ],
   "source": [
    "%%timeit\n",
    "import numpy as np\n",
    "N = 1000\n",
    "for i in np.arange(N):\n",
    "    for j in np.arange(N):\n",
    "       pass"
   ]
  },
  {
   "cell_type": "code",
   "execution_count": 9,
   "metadata": {},
   "outputs": [
    {
     "name": "stdout",
     "output_type": "stream",
     "text": [
      "10 loops, best of 3: 64.1 ms per loop\n"
     ]
    }
   ],
   "source": [
    "%%timeit\n",
    "N = 1000\n",
    "a=[j for i in range(N) for j in range(N)]"
   ]
  },
  {
   "cell_type": "code",
   "execution_count": 12,
   "metadata": {},
   "outputs": [
    {
     "name": "stdout",
     "output_type": "stream",
     "text": [
      "10 loops, best of 3: 63.1 ms per loop\n"
     ]
    }
   ],
   "source": [
    "%%timeit\n",
    "N = 1000\n",
    "a=(j for i in range(N) for j in range(N))\n",
    "for i in a:b=1+1"
   ]
  },
  {
   "cell_type": "code",
   "execution_count": 21,
   "metadata": {},
   "outputs": [
    {
     "name": "stdout",
     "output_type": "stream",
     "text": [
      "10 loops, best of 3: 91.5 ms per loop\n"
     ]
    }
   ],
   "source": [
    "%%timeit\n",
    "import numpy as np\n",
    "N = 1000\n",
    "a=(j for i in np.arange(N) for j in np.arange(N))\n",
    "for i in a:b=1+1"
   ]
  },
  {
   "cell_type": "code",
   "execution_count": 16,
   "metadata": {},
   "outputs": [
    {
     "name": "stdout",
     "output_type": "stream",
     "text": [
      "1 loop, best of 3: 227 ms per loop\n"
     ]
    }
   ],
   "source": [
    "%%timeit\n",
    "import math as m\n",
    "N = 1000\n",
    "a=(j for i in range(N) for j in range(N))\n",
    "for i in a:\n",
    "       b = 1+1\n",
    "       c = m.sin(b)"
   ]
  },
  {
   "cell_type": "code",
   "execution_count": 34,
   "metadata": {},
   "outputs": [
    {
     "name": "stdout",
     "output_type": "stream",
     "text": [
      "0\n",
      "[0 1 2 3 4 5 6 7 8 9]\n",
      "1\n",
      "[10 11 12 13 14 15 16 17 18 19]\n",
      "2\n",
      "[20 21 22 23 24 25 26 27 28 29]\n",
      "3\n",
      "[30 31 32 33 34 35 36 37 38 39]\n",
      "4\n",
      "[40 41 42 43 44 45 46 47 48 49]\n",
      "5\n",
      "[50 51 52 53 54 55 56 57 58 59]\n",
      "6\n",
      "[60 61 62 63 64 65 66 67 68 69]\n",
      "7\n",
      "[70 71 72 73 74 75 76 77 78 79]\n",
      "8\n",
      "[80 81 82 83 84 85 86 87 88 89]\n",
      "9\n",
      "[90 91 92 93 94 95 96 97 98 99]\n"
     ]
    }
   ],
   "source": [
    "#%%timeit\n",
    "import math as m\n",
    "import numpy as np\n",
    "N = 10\n",
    "a = np.arange(N*N).reshape(N,N)\n",
    "for i ,x in enumerate(a):\n",
    "    print(i)\n",
    "    print(x)\n"
   ]
  },
  {
   "cell_type": "code",
   "execution_count": 20,
   "metadata": {},
   "outputs": [
    {
     "name": "stdout",
     "output_type": "stream",
     "text": [
      "1 loop, best of 3: 432 ms per loop\n"
     ]
    }
   ],
   "source": [
    "%%timeit\n",
    "import math as m\n",
    "import numpy as np\n",
    "N = 1000\n",
    "a = np.arange(N*N).reshape(N,N)\n",
    "for k,i in enumerate(a):\n",
    "    for l,j in enumerate(i):\n",
    "        a[k,l] *= k\n",
    "\n"
   ]
  },
  {
   "cell_type": "code",
   "execution_count": 69,
   "metadata": {},
   "outputs": [
    {
     "name": "stderr",
     "output_type": "stream",
     "text": [
      "C:\\Users\\xzl\\Anaconda3\\lib\\site-packages\\ipykernel_launcher.py:8: RuntimeWarning: overflow encountered in long_scalars\n",
      "  \n"
     ]
    },
    {
     "name": "stdout",
     "output_type": "stream",
     "text": [
      "1 loop, best of 3: 4.17 s per loop\n"
     ]
    }
   ],
   "source": [
    "%%timeit\n",
    "import math as m\n",
    "import numpy as np\n",
    "N = 2000\n",
    "M= 2000\n",
    "a = np.arange(N*M).reshape(N,M)\n",
    "for k in range(N):\n",
    "    for l in range(M):\n",
    "        a[k,l] *= k\n"
   ]
  },
  {
   "cell_type": "code",
   "execution_count": 62,
   "metadata": {},
   "outputs": [
    {
     "name": "stdout",
     "output_type": "stream",
     "text": [
      "1000 loops, best of 3: 1.35 ms per loop\n"
     ]
    }
   ],
   "source": [
    "%%timeit\n",
    "import math as m\n",
    "import numpy as np\n",
    "N = 1000\n",
    "a = np.arange(N*2).reshape(N,2)\n",
    "#print(a)\n",
    "b=[k*j for k, i in enumerate(a) for j in i]#采用enumerate函数效率特别低\n",
    "b=np.array(b).reshape(10,-1)\n",
    "#print(b)"
   ]
  },
  {
   "cell_type": "code",
   "execution_count": 78,
   "metadata": {},
   "outputs": [
    {
     "name": "stdout",
     "output_type": "stream",
     "text": [
      "[0, 0, 0, 0, 0, 0, 0, 0, 0]\n"
     ]
    }
   ],
   "source": [
    "#%%timeit\n",
    "import math as m\n",
    "import numpy as np\n",
    "N = 3\n",
    "M = 3\n",
    "a = np.arange(N*M).reshape(N,M)\n",
    "k = 0\n",
    "f = lambda k: k+1\n",
    "b = [j*k for i in a if f(k) > k  for j in i]\n",
    "print(b)\n"
   ]
  },
  {
   "cell_type": "code",
   "execution_count": null,
   "metadata": {
    "collapsed": true
   },
   "outputs": [],
   "source": []
  }
 ],
 "metadata": {
  "kernelspec": {
   "display_name": "Python 3",
   "language": "python",
   "name": "python3"
  },
  "language_info": {
   "codemirror_mode": {
    "name": "ipython",
    "version": 3
   },
   "file_extension": ".py",
   "mimetype": "text/x-python",
   "name": "python",
   "nbconvert_exporter": "python",
   "pygments_lexer": "ipython3",
   "version": "3.6.1"
  },
  "widgets": {
   "application/vnd.jupyter.widget-state+json": {
    "state": {},
    "version_major": 1,
    "version_minor": 0
   }
  }
 },
 "nbformat": 4,
 "nbformat_minor": 2
}
