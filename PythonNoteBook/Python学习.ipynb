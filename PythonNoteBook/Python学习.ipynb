{
 "cells": [
  {
   "cell_type": "code",
   "execution_count": null,
   "metadata": {
    "collapsed": true
   },
   "outputs": [],
   "source": [
    "#判断列表，元组、字典中是否含有某个元素\n",
    "a=[1,2,3,4]\n",
    "print(1 in a)\n",
    "print(5 in a)\n",
    "b = (1,2,3,4)\n",
    "print(1 in b)\n",
    "print(5 in b)\n",
    "c = {\n",
    "    1:'d1',\n",
    "    2:'d2',\n",
    "    3:'d3',\n",
    "    4:'d4'\n",
    "    }\n",
    "print(1 in b)\n",
    "print(5 in b)"
   ]
  },
  {
   "cell_type": "code",
   "execution_count": null,
   "metadata": {
    "collapsed": true
   },
   "outputs": [],
   "source": [
    "#修改循环中的序列,采用for循环结果可能不正确\n",
    "a=[1,2,5,5,4,5]\n",
    "for i in a:\n",
    "    if i == 5:a.pop(a.index(i))\n",
    "print(a)"
   ]
  },
  {
   "cell_type": "code",
   "execution_count": 3,
   "metadata": {},
   "outputs": [
    {
     "name": "stdout",
     "output_type": "stream",
     "text": [
      "[1, 2, 4, 4]\n"
     ]
    }
   ],
   "source": [
    "#修改循环中的序列,采用while,for循环结果正确      \n",
    "a=[5,1,2,5,5,4,5,4,5,5,5]\n",
    "\n",
    "while(True):\n",
    "    remove = False\n",
    "    for i in a:\n",
    "        if i == 5:\n",
    "            a.pop(a.index(i))\n",
    "            remove = True\n",
    "            break\n",
    "    if not remove: break\n",
    "print(a)\n",
    "        "
   ]
  },
  {
   "cell_type": "code",
   "execution_count": null,
   "metadata": {
    "collapsed": true
   },
   "outputs": [],
   "source": []
  },
  {
   "cell_type": "code",
   "execution_count": null,
   "metadata": {
    "collapsed": true
   },
   "outputs": [],
   "source": []
  }
 ],
 "metadata": {
  "kernelspec": {
   "display_name": "Python 3",
   "language": "python",
   "name": "python3"
  }
 },
 "nbformat": 4,
 "nbformat_minor": 2
}
