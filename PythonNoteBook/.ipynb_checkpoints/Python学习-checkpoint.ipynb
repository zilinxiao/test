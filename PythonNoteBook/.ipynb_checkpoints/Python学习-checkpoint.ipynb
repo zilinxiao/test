{
 "cells": [
  {
   "cell_type": "code",
   "execution_count": 3,
   "metadata": {},
   "outputs": [
    {
     "name": "stdout",
     "output_type": "stream",
     "text": [
      "True\n",
      "False\n",
      "True\n",
      "False\n",
      "True\n",
      "False\n"
     ]
    }
   ],
   "source": [
    "#判断列表，元组、字典中是否含有某个元素\n",
    "a=[1,2,3,4]\n",
    "print(1 in a)\n",
    "print(5 in a)\n",
    "b = (1,2,3,4)\n",
    "print(1 in b)\n",
    "print(5 in b)\n",
    "c = {\n",
    "    1:'d1',\n",
    "    2:'d2',\n",
    "    3:'d3',\n",
    "    4:'d4'\n",
    "    }\n",
    "print(1 in b)\n",
    "print(5 in b)"
   ]
  },
  {
   "cell_type": "code",
   "execution_count": null,
   "metadata": {
    "collapsed": true
   },
   "outputs": [],
   "source": []
  }
 ],
 "metadata": {
  "kernelspec": {
   "display_name": "Python 3",
   "language": "python",
   "name": "python3"
  },
  "language_info": {
   "codemirror_mode": {
    "name": "ipython",
    "version": 3
   },
   "file_extension": ".py",
   "mimetype": "text/x-python",
   "name": "python",
   "nbconvert_exporter": "python",
   "pygments_lexer": "ipython3",
   "version": "3.4.4"
  }
 },
 "nbformat": 4,
 "nbformat_minor": 2
}
